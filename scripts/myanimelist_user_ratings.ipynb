{
 "cells": [
  {
   "cell_type": "markdown",
   "id": "43021d25-913a-49bc-bceb-acdb4f226117",
   "metadata": {},
   "source": [
    "# Project: Anime Recommendation Engines\n",
    "\n",
    "## Delivering Personalized Recommendations Using Collaborative Filtering\n",
    "\n",
    "**Motivation & Interest:**  \n",
    "As a data science enthusiast and anime fan, I aimed to explore how recommendation engines drive user engagement on platforms like MyAnimeList. This project bridges technical machine learning concepts with practical, real-world applications.\n",
    "\n",
    "**Why This Project?**  \n",
    "- Business Impact: Recommendation systems influence approximately 75% of content consumption on streaming platforms such as Netflix ([Source: Netflix Recommendations: Beyond the 5 stars (Part 1)](https://netflixtechblog.com/netflix-recommendations-beyond-the-5-stars-part-1-55838468f429)) \n",
    "- Technical Expertise: Hands-on experience with core algorithms including similarity metrics and matrix factorization  \n",
    "- Innovation: Combining user-based and item-based filtering with genre data to enhance recommendation quality  \n",
    "\n",
    "**Key Questions & Approach:**  \n",
    "1. How consistent are user ratings, and what behavioral patterns can be identified?  \n",
    "   - Exploratory data analysis with user rating distributions and entropy measures  \n",
    "2. How does item-based collaborative filtering perform for anime recommendations?  \n",
    "   - Implementing item-based filtering for generating personalized recommendations\n",
    "3. Can integrating genre similarity improve recommendation performance?  \n",
    "   - Developing a hybrid model blending collaborative filtering with genre-based similarity, visualized via network graphs  \n"
   ]
  },
  {
   "cell_type": "markdown",
   "id": "0c21225f-f121-4e9d-94e4-ab6f67257727",
   "metadata": {},
   "source": [
    "### Loading Packages and Initial Settings\n",
    "\n",
    "Importing the necessary Python libraries for data handling, visualization, statistical analysis, and building the recommendation models. We also set a random seed to ensure reproducibility."
   ]
  },
  {
   "cell_type": "code",
   "execution_count": null,
   "id": "3d4a2665-4f05-4f82-a91b-d839adf58d0c",
   "metadata": {},
   "outputs": [],
   "source": [
    "import os\n",
    "from kaggle.api.kaggle_api_extended import KaggleApi\n",
    "from pathlib import Path\n",
    "import pandas as pd\n",
    "import numpy as np\n",
    "import seaborn as sns\n",
    "import matplotlib.pyplot as plt\n",
    "from statsmodels.formula.api import logit\n",
    "from scipy.stats import entropy\n",
    "from scipy.sparse.linalg import svds\n",
    "from scipy.spatial.distance import pdist, squareform\n",
    "from sklearn.metrics import root_mean_squared_error\n",
    "from sklearn.metrics.pairwise import cosine_similarity\n",
    "from sklearn.preprocessing import MinMaxScaler\n",
    "\n",
    "sns.set_style(\"darkgrid\")\n",
    "SEED = 9"
   ]
  },
  {
   "cell_type": "markdown",
   "id": "2bfa49e9-854f-48f1-a1b2-7437167616aa",
   "metadata": {},
   "source": [
    "### Data Downloading and Importing\n",
    "\n",
    "In this step, the MyAnimeList datasets are downloaded directly from Kaggle using the Kaggle API. The data is saved in a local directory and automatically unzipped for further use.  \n",
    "Note: Authentication via the Kaggle API is required beforehand."
   ]
  },
  {
   "cell_type": "code",
   "execution_count": null,
   "id": "60b19381-6c32-4d9e-b772-7c8db64d4f49",
   "metadata": {},
   "outputs": [],
   "source": [
    "project_root = cwd.parent\n",
    "\n",
    "target_dir = project_root / \"data\"\n",
    "\n",
    "api = KaggleApi()\n",
    "api.authenticate()\n",
    "\n",
    "dataset = \"andrewgatchalian/myanimelist-user-ratings\"\n",
    "api.dataset_download_files(dataset, path=target_dir, unzip=True)\n",
    "\n",
    "print(f\"Dataset downloaded to: {target_dir}\")\n",
    "\n",
    "data_path = os.path.join(target_dir, \"anime_data\", \"anime_user_ratings.csv\")\n",
    "\n",
    "df_user_ratings = pd.read_csv(data_path)"
   ]
  },
  {
   "cell_type": "markdown",
   "id": "d5af427e-42d8-4fe3-8700-e3abad5b72e9",
   "metadata": {},
   "source": [
    "### Understanding User Rating Consistency: Patterns and Biases in Anime Preferences\n",
    "\n",
    "This analysis explores how consistently users rate anime and examines the potential impact of rating behavior on recommendation quality. Certain users might display extreme rating patterns—such as assigning only maximum (10) or minimum (1) scores—which can distort similarity calculations in collaborative filtering models. By visualizing the distribution of ratings per user and calculating statistical measures like rating entropy, we aim to identify these outlier behaviors. Consistency in ratings is expected to improve recommendation accuracy, while inconsistent rating patterns may introduce bias into both user-based and item-based filtering methods. The results of this step will inform whether preprocessing—such as down-weighting or filtering inconsistent raters—can enhance the overall performance of our recommendation engine."
   ]
  },
  {
   "cell_type": "markdown",
   "id": "f9da673f-1eb2-483c-942b-dcad248308df",
   "metadata": {},
   "source": [
    "#### EDA: Distribution of User Rating Scores by User Status\n",
    "\n",
    "We begin the exploratory analysis by visualizing how anime rating scores are distributed across different user statuses (e.g., completed, dropped, watching).  \n",
    "Histograms and density plots reveal general scoring tendencies, while bar plots highlight average ratings by user status.  \n",
    "This step helps identify potential biases, such as whether certain statuses are associated with systematically higher or lower ratings.\n",
    "\n",
    "Key Takeaways:\n",
    "- **Score Distribution**  \n",
    "   - Most user ratings are in the high range (7–9).  \n",
    "   - Very low ratings (<4) are rare.  \n",
    "- **Score Distribution by User Status**  \n",
    "   - **Completed** entries dominate across nearly all rating values, especially at round scores (6, 8, 10).  \n",
    "   - **Watching**, **Dropped**, and **On Hold** appear far less frequently and have flatter distributions.  \n",
    "- **Average Score by Status**  \n",
    "   - **Watching** status has the highest average score.  \n",
    "   - **Dropped** status has the lowest average.  \n",
    "   - **Completed** and **On Hold** are close to each other.  \n",
    "\n",
    "**Conclusion:** Users generally give positive ratings, especially when they finish or are currently watching a series. Shows that are dropped receive significantly lower ratings, as expected."
   ]
  },
  {
   "cell_type": "code",
   "execution_count": null,
   "id": "2a68e8e5-cd6c-4d09-ae7b-de222ee60a18",
   "metadata": {},
   "outputs": [],
   "source": [
    "sns.histplot(data = df_user_ratings, x = \"user_score\", binwidth = 1)\n",
    "plt.show()\n",
    "\n",
    "sns.kdeplot(data = df_user_ratings, x = \"user_score\", hue = \"user_status\")\n",
    "plt.show()\n",
    "\n",
    "sns.barplot(data = df_user_ratings, x = \"user_status\", y = \"user_score\")\n",
    "plt.show()"
   ]
  },
  {
   "cell_type": "markdown",
   "id": "6223280d-9c89-4c46-8f50-c78190b2fca9",
   "metadata": {},
   "source": [
    "#### EDA: Rating Entropy\n",
    "\n",
    "To measure how consistent each user is in their ratings, we calculate the **entropy** of their score distribution:  \n",
    "- **High entropy** → diverse rating behavior (user gives a wide range of scores)  \n",
    "- **Low entropy** → consistent rating behavior (user gives mostly the same score)  \n",
    "\n",
    "We also store each user's total number of ratings and average score for context.  \n",
    "Finally, we visualize entropy vs. total ratings to identify patterns, such as whether prolific users tend to be more consistent or varied in their ratings.\n",
    "\n",
    "- Key Results:\n",
    "    - **Mean entropy**: ~2.73 bits → most users display moderately diverse rating patterns.  \n",
    "    - **Standard deviation**: ~0.20 bits → rating variety is fairly similar across the user base.  \n",
    "    - **Distribution**: Most users fall between 2.63 and 2.84 bits, indicating a balanced mix of consistent and varied raters.\n",
    "\n",
    "**Conclusion**: While most users rate across a range of scores, a small subset either rates very uniformly or sticks to a single score. Both extremes can influence collaborative filtering similarity calculations.\n"
   ]
  },
  {
   "cell_type": "code",
   "execution_count": null,
   "id": "0f9e3fee-7334-4e72-9f9c-569a1141cee7",
   "metadata": {},
   "outputs": [],
   "source": [
    "user_rating_counts = df_user_ratings.groupby(['user_id', 'user_score']).size().unstack(fill_value=0)\n",
    "\n",
    "user_entropy = user_rating_counts.apply(entropy, axis=1, base=2)\n",
    "\n",
    "user_stats = pd.DataFrame({\n",
    "    'entropy': user_entropy,\n",
    "    'total_ratings': df_user_ratings['user_id'].value_counts(),\n",
    "    'avg_score': df_user_ratings.groupby('user_id')['user_score'].mean()\n",
    "})\n",
    "\n",
    "print(user_stats.sort_values(by = \"entropy\", ascending = False))\n",
    "\n",
    "user_stats.plot.scatter(x='total_ratings', y='entropy', s=100, alpha=0.7)\n",
    "plt.title('User Rating Behavior')\n",
    "plt.xlabel('Number of Ratings')\n",
    "plt.ylabel('Entropy')\n",
    "plt.show()"
   ]
  },
  {
   "cell_type": "markdown",
   "id": "3ba2ea19-bd91-4ccc-8609-85d365287dd1",
   "metadata": {},
   "source": [
    "#### EDA: Correlation Between User Scores and Episodes Watched\n",
    "\n",
    "To examine whether higher ratings are associated with watching more episodes, we:  \n",
    "1. Converted user scores into categorical values for clearer grouping in plots.  \n",
    "2. Created a bar plot showing the average number of episodes watched for each rating score.  \n",
    "3. Calculated the Pearson correlation coefficient between `user_score` and `user_eps_watched`.\n",
    "\n",
    "This analysis helps determine if engagement (measured by episodes watched) aligns with rating behavior, which could influence recommendation quality and model assumptions.\n",
    "\n",
    "**Key Results:** The bar plot below shows the average number of episodes watched for each rating score.  \n",
    "While there is a general upward trend—higher ratings tend to be associated with more episodes watched—the overall **Pearson correlation coefficient is only `0.03`**, indicating a very weak linear relationship.\n",
    "\n",
    "**Interpretation:**\n",
    "- Users who give the highest scores (`9` and `10`) have, on average, watched significantly more episodes.\n",
    "- However, this trend is not strong enough to imply that episode count is a reliable predictor of a user's rating.\n",
    "- Ratings may be influenced by other factors such as story quality, personal preferences, or genre fit, rather than just viewing length."
   ]
  },
  {
   "cell_type": "code",
   "execution_count": null,
   "id": "1ae83054-e49c-4c77-bf53-fd30910993b3",
   "metadata": {},
   "outputs": [],
   "source": [
    "df_user_ratings['user_score_category'] = df_user_ratings['user_score'].astype('category')\n",
    "\n",
    "sns.barplot(data = df_user_ratings, x = \"user_score_category\", y = \"user_eps_watched\")\n",
    "plt.xlabel('User Rating')\n",
    "plt.ylabel('Amount of episodes watched')\n",
    "plt.show()\n",
    "\n",
    "print(df_user_ratings[[\"user_score\", \"user_eps_watched\"]].corr())"
   ]
  },
  {
   "cell_type": "markdown",
   "id": "46faf840-6ac9-418a-97a3-2dad7968bc0d",
   "metadata": {},
   "source": [
    "#### EDA: Most Popular Animes by Number of Ratings\n",
    "\n",
    "To better understand the dataset, we aggregated ratings per anime title, computing both the **mean rating** and the **number of ratings** each title received.  \n",
    "To focus on titles with enough user feedback for reliable analysis, we filtered for anime with **more than 100 ratings**.\n",
    "\n",
    "We then explored the relationship between the **average rating** and the **number of ratings** using a joint plot.\n",
    "\n",
    "- Results:\n",
    "    - Popular titles often belong to well-known or highly publicized franchises.\n",
    "    - The joint plot shows no strong correlation between **average rating** and **popularity** (number of ratings).\n",
    "    - Highly rated shows are not necessarily the most popular, suggesting a need for recommendation algorithms to balance **quality** and **popularity**.\n"
   ]
  },
  {
   "cell_type": "code",
   "execution_count": null,
   "id": "78d63cb9-7130-433c-803f-3c4887e27228",
   "metadata": {},
   "outputs": [],
   "source": [
    "agg_ratings = df_user_ratings.groupby('title').agg(mean_rating = ('user_score', 'mean'),\n",
    "                                                number_of_ratings = ('user_score', 'count')).reset_index()\n",
    "\n",
    "agg_ratings_TOP100 = agg_ratings[agg_ratings['number_of_ratings'] > 100]\n",
    "agg_ratings_TOP100.info()\n",
    "\n",
    "print(agg_ratings_TOP100.sort_values(by = 'number_of_ratings', ascending = False).head())\n",
    "\n",
    "sns.jointplot(x = 'mean_rating', y = 'number_of_ratings', data = agg_ratings_TOP100)"
   ]
  },
  {
   "cell_type": "markdown",
   "id": "b3895308-d346-4791-8cc2-5048b2fcd3b3",
   "metadata": {},
   "source": [
    "### Question 2: How does item-based collaborative filtering perform for anime recommendations?\n",
    "\n",
    "The first analysis revealed that user rating behavior varies widely, and that analyzing entropy may help in categorizing users from consistent superfans to sophisticated critics. While these insights help understand data quality, they don’t answer the core practical question: How can we use the ratings by users for generating personalized anime recommendations? Building on the insights from Question 1, this section focuses on item-based collaborative filtering (IBCF) to recommend animes based on similarities between titles. Compared to user-based methods, IBCF provides greater stability and scalability by relying on item similarity rather than user similarity. This approach is common in industry and well-suited to our data."
   ]
  },
  {
   "cell_type": "markdown",
   "id": "c7192693-e3c9-4d16-9978-6835af6d16f0",
   "metadata": {},
   "source": [
    "#### Integrating Personal User Data for Tailored Recommendation Evaluation\n",
    "\n",
    "To accurately compare user-based and item-based collaborative filtering methods, we incorporate personal rating data from my own MyAnimeList account into the existing dataset. This allows us to generate and evaluate recommendations specifically tailored to my viewing history and preferences. By merging my ratings with the broader user data, we can simulate how each filtering approach performs in delivering relevant anime suggestions personalized to my profile."
   ]
  },
  {
   "cell_type": "code",
   "execution_count": null,
   "id": "e8ab23db-8ddd-440c-a36f-bffad335259b",
   "metadata": {},
   "outputs": [],
   "source": [
    "data_path = os.path.join(target_dir, \"anime_data\", \"personal_list.xlsx\")\n",
    "\n",
    "df_personal_account = pd.read_excel(data_path)\n",
    "\n",
    "df_full = pd.concat([df_user_ratings, df_personal_account], ignore_index= True)"
   ]
  },
  {
   "cell_type": "markdown",
   "id": "523f8423-5c93-4062-a20b-c6984789b4f4",
   "metadata": {},
   "source": [
    "#### Data Preparation: Filtering, Deduplication, and User-Item Matrix Construction\n",
    "\n",
    "To ensure reliable recommendations, we first filter the dataset to include only popular anime titles with a minimum of 100 user ratings. This step reduces noise and sparsity in the data. Next, we check for and identify any duplicate user-anime rating pairs to maintain data integrity. Finally, we transform the dataset into a user-item matrix with users as rows, anime titles as columns, and their corresponding ratings as values. This matrix format is essential for implementing collaborative filtering algorithms. We also calculate the sparsity of the matrix to understand the density of available rating data, which directly impacts recommendation quality."
   ]
  },
  {
   "cell_type": "code",
   "execution_count": null,
   "id": "d0878fd8-4064-40c0-a507-d18cf7a27882",
   "metadata": {},
   "outputs": [],
   "source": [
    "min_ratings = 100\n",
    "\n",
    "anime_stats = df_full.groupby('anime_id').agg(\n",
    "    rating_count=('user_score', 'count'),\n",
    "    avg_rating=('user_score', 'mean')\n",
    ")\n",
    "popular_anime = anime_stats[anime_stats['rating_count'] >= min_ratings].index\n",
    "\n",
    "df_full = df_full[df_full['anime_id'].isin(popular_anime)]\n",
    "\n",
    "duplicates = df_full.duplicated(subset=['user_id', 'title'], keep=False)\n",
    "\n",
    "print(f\"Found {duplicates.sum()} duplicate user-title pairs:\")\n",
    "\n",
    "print(df_full[duplicates].sort_values(['user_id', 'title']))\n",
    "\n",
    "user_ratings_pivot = df_full.pivot_table(\n",
    "    index='user_id', \n",
    "    columns='title', \n",
    "    values='user_score',\n",
    "    aggfunc='last'\n",
    ")\n",
    "\n",
    "print(user_ratings_pivot.info())\n",
    "\n",
    "number_of_empty = user_ratings_pivot.isnull().values.sum()\n",
    "total_number = user_ratings_pivot.size\n",
    "sparsity = number_of_empty/total_number\n",
    "\n",
    "print(sparsity)"
   ]
  },
  {
   "cell_type": "markdown",
   "id": "bc9939fa-7cd6-449b-b67f-38b11d8e7e92",
   "metadata": {},
   "source": [
    "#### Normalizing User Ratings: Centering and Handling Missing Values\n",
    "\n",
    "To prepare the data for similarity calculations, we first examine the shape of the user-item rating matrix. We then compute the average rating for each user to account for individual rating biases. By subtracting each user’s average from their ratings, we center the data, normalizing user preferences around zero. This normalization improves the accuracy of similarity measures in collaborative filtering. Finally, missing ratings are filled with zeros to facilitate matrix operations without introducing bias."
   ]
  },
  {
   "cell_type": "code",
   "execution_count": null,
   "id": "8b059ce5-2b72-4dcc-afb3-0a818d33916f",
   "metadata": {},
   "outputs": [],
   "source": [
    "print(user_ratings_pivot.shape)\n",
    "\n",
    "avg_ratings = user_ratings_pivot.mean(axis = 1)\n",
    "\n",
    "print(avg_ratings)\n",
    "\n",
    "user_ratings_centered = user_ratings_pivot.sub(avg_ratings, axis = 0)\n",
    "\n",
    "user_ratings_centered.fillna(0, inplace=True)\n",
    "\n",
    "print(user_ratings_centered)"
   ]
  },
  {
   "cell_type": "markdown",
   "id": "30b717da-9cd5-4c11-8f1a-9836127e0a7a",
   "metadata": {},
   "source": [
    "#### Item-Based Collaborative Filtering: Calculating Anime Similarities\n",
    "\n",
    "In this step, we implement item-based collaborative filtering by computing similarity scores between anime titles. We first transpose the user-item rating matrix to create an item-user matrix, which allows us to analyze how similarly different anime are rated across users. Using cosine similarity, we calculate pairwise similarity scores between all anime titles. The resulting similarity matrix enables us to identify titles most similar to a given anime, such as “Shingeki no Kyojin.” These similarity scores form the foundation for generating personalized recommendations based on items similar to those a user has already rated highly.\n",
    "\n",
    "**Results:** The cosine similarity scores reveal the anime titles most closely related to “Shingeki no Kyojin” based on user rating patterns. As expected, its direct sequels (“Season 2”, “Season 3 Part 2”, etc.) have the highest similarity scores, reflecting consistent user preferences across the series. Other top matches include thematically or stylistically similar titles such as “Vinland Saga Season 2” and “Kaguya-sama wa Kokurasetai.” These similarity relationships form the basis for recommending anime that align closely with a user's past favorites."
   ]
  },
  {
   "cell_type": "code",
   "execution_count": null,
   "id": "ffd9a0c2-8d89-4b91-9403-22946ec7270b",
   "metadata": {},
   "outputs": [],
   "source": [
    "anime_ratings_pivot = user_ratings_centered.T\n",
    "\n",
    "print(anime_ratings_pivot)\n",
    "\n",
    "similarities_item = cosine_similarity(anime_ratings_pivot)\n",
    "\n",
    "cosine_similarity_df_item = pd.DataFrame(similarities_item,\n",
    "                                   index = anime_ratings_pivot.index,\n",
    "                                   columns = anime_ratings_pivot.index)\n",
    "\n",
    "cosine_similarity_df_item.head()\n",
    "\n",
    "cosine_similarity_series_item = cosine_similarity_df_item.loc['Shingeki no Kyojin']\n",
    "ordered_similarities_item = cosine_similarity_series_item.sort_values(ascending = False)\n",
    "print(ordered_similarities_item.head(10))"
   ]
  },
  {
   "cell_type": "markdown",
   "id": "4179005d-0247-4b50-b487-247c04ee967f",
   "metadata": {},
   "source": [
    "### Question 3: Can we improve recommendations by blending genres with collaborative filtering?\n",
    "\n",
    "While collaborative filtering techniques like user-based and item-based filtering offer valuable insights, they face challenges such as sparse user overlap and unreliable similarity scores for niche anime. To overcome these limitations, hybrid recommendation systems combine collaborative filtering with content-based features, including genres, studios, and themes. This integration helps mitigate cold-start problems for new or less-rated titles, improves the semantic relevance of recommendations by suggesting thematically related anime, and strengthens overall recommendation robustness. In this section, we develop a hybrid model that blends Item-Based Collaborative Filtering with genre similarity to provide more diverse and contextually meaningful anime recommendations."
   ]
  },
  {
   "cell_type": "markdown",
   "id": "2383bcfe-afea-4ee3-89a4-8206500f58e4",
   "metadata": {},
   "source": [
    "#### Loading and Preparing Anime Genre Data\n",
    "\n",
    "To enable genre-based recommendations in our hybrid model, we import and clean the dataset containing anime genres. We ensure unique anime entries by removing duplicates and then merge genre information with the existing anime titles in our main dataset. This merged genre data will serve as the content-based feature layer, complementing the collaborative filtering approach in the following steps."
   ]
  },
  {
   "cell_type": "code",
   "execution_count": null,
   "id": "b35df2c8-4179-4d1a-b0ff-15135e17ab3a",
   "metadata": {},
   "outputs": [],
   "source": [
    "data_path = os.path.join(target_dir, \"anime_data\", \"anime_genres.csv\")\n",
    "\n",
    "df_anime_genre = pd.read_csv(data_path)\n",
    "\n",
    "df_anime_genre = df_anime_genre.drop_duplicates(subset = \"anime_id\", keep = \"first\")\n",
    "\n",
    "df_anime_genre = df_anime_genre.merge(\n",
    "    df_full[[\"anime_id\", \"title\"]].drop_duplicates(),\n",
    "    on=\"anime_id\",\n",
    "    how=\"left\")\n",
    "\n",
    "df_anime_genre = df_anime_genre.drop(columns=[\"anime_id\"])\n",
    "\n",
    "df_anime_genre = df_anime_genre.set_index(\"title\")\n",
    "\n",
    "print(df_anime_genre.info())"
   ]
  },
  {
   "cell_type": "markdown",
   "id": "a4e1cfb6-f127-4bc2-bd82-9a99a73d7f4e",
   "metadata": {},
   "source": [
    "#### Building the Content-Based Recommendation Matrix\n",
    "\n",
    "To capture the similarity between anime titles based on their genres, we calculate the Jaccard similarity using genre data. This metric measures the overlap between genre sets for each anime, providing a content-based perspective complementary to collaborative filtering. The resulting similarity matrix enables us to identify closely related titles, as demonstrated with recommendations for *Shingeki no Kyojin*."
   ]
  },
  {
   "cell_type": "code",
   "execution_count": null,
   "id": "cb1458c8-268a-4adf-8633-0bbbebf1f062",
   "metadata": {},
   "outputs": [],
   "source": [
    "jaccard_distances = pdist(df_anime_genre.values, metric='jaccard')\n",
    "\n",
    "jaccard_similarity_array = 1 - squareform(jaccard_distances)\n",
    "\n",
    "jaccard_similarity_df = pd.DataFrame(jaccard_similarity_array, index = df_anime_genre_merged.index, columns = df_anime_genre_merged.index)\n",
    "\n",
    "print(jaccard_similarity_df.head(5))\n",
    "\n",
    "jaccard_similarity_series = jaccard_similarity_df.loc['Shingeki no Kyojin']\n",
    "\n",
    "ordered_similarities = jaccard_similarity_series.sort_values(ascending = False)\n",
    "\n",
    "print(ordered_similarities.head(20))"
   ]
  },
  {
   "cell_type": "markdown",
   "id": "c92f8d3b-de2d-4a54-9e60-04f21f9be88c",
   "metadata": {},
   "source": [
    "#### Aligning Genre-Based and Item-Based Similarity Matrices\n",
    "\n",
    "To combine collaborative filtering with genre-based similarities, we first identify the common anime titles present in both similarity matrices. We then align these matrices by selecting only the overlapping titles, ensuring consistency for the hybrid recommendation model."
   ]
  },
  {
   "cell_type": "code",
   "execution_count": null,
   "id": "edb401a6-93a9-4589-ae3f-68bc3ea36f52",
   "metadata": {},
   "outputs": [],
   "source": [
    "common_titles = list(set(jaccard_similarity_df.index) & set(cosine_similarity_df_item.index))\n",
    "\n",
    "jaccard_sim_aligned = jaccard_similarity_df.loc[common_titles, common_titles]\n",
    "cosine_sim_aligned = cosine_similarity_df_item.loc[common_titles, common_titles]\n",
    "\n",
    "print(jaccard_sim_aligned)\n",
    "print(cosine_sim_aligned)"
   ]
  },
  {
   "cell_type": "markdown",
   "id": "91285885-4a2b-47cb-94e0-481be3b9105a",
   "metadata": {},
   "source": [
    "#### Normalizing Jaccard and Cosine Similarity Scores\n",
    "\n",
    "To ensure both genre-based (Jaccard) and item-based (Cosine) similarity scores contribute equally in the hybrid model, we apply Min-Max scaling to normalize their values between 0 and 1. This step allows for a balanced combination of the two similarity measures in subsequent analysis."
   ]
  },
  {
   "cell_type": "code",
   "execution_count": null,
   "id": "8ea9cfb4-a075-4d8f-b334-01dd45cb5ef7",
   "metadata": {},
   "outputs": [],
   "source": [
    "scaler = MinMaxScaler()\n",
    "\n",
    "jaccard_sim_scaled = pd.DataFrame(\n",
    "    scaler.fit_transform(jaccard_sim_aligned),\n",
    "    index = jaccard_sim_aligned.index,\n",
    "    columns = jaccard_sim_aligned.columns\n",
    ")\n",
    "\n",
    "cosine_sim_scaled = pd.DataFrame(\n",
    "    scaler.fit_transform(cosine_sim_aligned),\n",
    "    index = cosine_sim_aligned.index,\n",
    "    columns = cosine_sim_aligned.columns\n",
    ")\n",
    "\n",
    "print(jaccard_sim_scaled)\n",
    "print(cosine_sim_scaled)"
   ]
  },
  {
   "cell_type": "markdown",
   "id": "b40ba99f-45e9-429f-94e9-972bab311beb",
   "metadata": {},
   "source": [
    "#### Constructing a Weighted Hybrid Recommendation System\n",
    "\n",
    "We create a hybrid similarity matrix by combining the normalized item-based (Cosine) and genre-based (Jaccard) similarity scores. Assigning a higher weight to item-based similarity (70%) reflects its stronger predictive power, while the genre-based component (30%) adds valuable content context. This weighted blend aims to deliver more accurate and diverse anime recommendations."
   ]
  },
  {
   "cell_type": "code",
   "execution_count": null,
   "id": "4cae2fc4-fdc9-439b-8b97-d82b56e3eca5",
   "metadata": {},
   "outputs": [],
   "source": [
    "hybrid_similarity_df = 0.7 * cosine_sim_scaled + 0.3 * jaccard_sim_scaled\n",
    "\n",
    "print(hybrid_similarity_df)"
   ]
  },
  {
   "cell_type": "markdown",
   "id": "3502d1b0-0f51-4c37-8c67-62e6b3db7bf1",
   "metadata": {},
   "source": [
    "#### Generating Top-10 Anime Recommendations Using the Hybrid Model\n",
    "\n",
    "Using the hybrid similarity matrix, we aggregate similarity scores for all animes the user *k3v1n* has watched. By summing these scores and excluding already rated titles, we generate a ranked list of top recommendations tailored to the user's preferences. This approach leverages both collaborative filtering and genre information to provide personalized and diverse anime suggestions.\n",
    "\n",
    "**Conclusion:** Recommendations show strong alignment with user’s past preferences while introducing genre-diverse titles to encourage discovery. The hybrid model produced a top recommendation list dominated by highly rated and thematically relevant anime such as Hunter x Hunter, Bleach: Sennen Kessen-hen, and Jujutsu Kaisen."
   ]
  },
  {
   "cell_type": "code",
   "execution_count": null,
   "id": "84127fad-344f-47f3-bfd8-77ce38cf3051",
   "metadata": {},
   "outputs": [],
   "source": [
    "watched_animes = user_ratings_pivot.columns[user_ratings_pivot.loc['k3v1n'].notna()].tolist()\n",
    "\n",
    "recommendation_scores = pd.Series(dtype=float)\n",
    "\n",
    "for anime in watched_animes:\n",
    "    similar_animes = hybrid_similarity_df[anime]\n",
    "    recommendation_scores = recommendation_scores.add(similar_animes, fill_value=0)\n",
    "\n",
    "recommendation_scores = recommendation_scores.drop(labels=watched_animes, errors='ignore')\n",
    "\n",
    "top_recommendations = recommendation_scores.sort_values(ascending=False).head(10)\n",
    "\n",
    "print(\"🎯 Top Recommendations for User k3v1n:\")\n",
    "print(top_recommendations)"
   ]
  }
 ],
 "metadata": {
  "kernelspec": {
   "display_name": "Python 3 (ipykernel)",
   "language": "python",
   "name": "python3"
  },
  "language_info": {
   "codemirror_mode": {
    "name": "ipython",
    "version": 3
   },
   "file_extension": ".py",
   "mimetype": "text/x-python",
   "name": "python",
   "nbconvert_exporter": "python",
   "pygments_lexer": "ipython3",
   "version": "3.12.3"
  }
 },
 "nbformat": 4,
 "nbformat_minor": 5
}
